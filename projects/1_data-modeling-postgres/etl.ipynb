{
 "cells": [
  {
   "cell_type": "markdown",
   "metadata": {},
   "source": [
    "# ETL Processes\n",
    "Use this notebook to develop the ETL process for each of your tables before completing the `etl.py` file to load the whole datasets."
   ]
  },
  {
   "cell_type": "code",
   "execution_count": 1,
   "metadata": {},
   "outputs": [],
   "source": [
    "import os\n",
    "import glob\n",
    "import psycopg2\n",
    "import pandas as pd\n",
    "from sql_queries import *"
   ]
  },
  {
   "cell_type": "code",
   "execution_count": 2,
   "metadata": {},
   "outputs": [],
   "source": [
    "conn = psycopg2.connect(\"host=127.0.0.1 dbname=sparkifydb user=student password=student\")\n",
    "conn.autocommit = True\n",
    "cur = conn.cursor()"
   ]
  },
  {
   "cell_type": "code",
   "execution_count": 3,
   "metadata": {},
   "outputs": [],
   "source": [
    "def get_files(filepath):\n",
    "    all_files = []\n",
    "    for root, dirs, files in os.walk(filepath):\n",
    "        files = glob.glob(os.path.join(root,'*.json'))\n",
    "        for f in files :\n",
    "            all_files.append(os.path.abspath(f))\n",
    "    \n",
    "    return all_files"
   ]
  },
  {
   "cell_type": "markdown",
   "metadata": {},
   "source": [
    "# Process `song_data`\n",
    "In this first part, you'll perform ETL on the first dataset, `song_data`, to create the `songs` and `artists` dimensional tables.\n",
    "\n",
    "Let's perform ETL on a single song file and load a single record into each table to start.\n",
    "- Use the `get_files` function provided above to get a list of all song JSON files in `data/song_data`\n",
    "- Select the first song in this list\n",
    "- Read the song file and view the data"
   ]
  },
  {
   "cell_type": "code",
   "execution_count": 4,
   "metadata": {},
   "outputs": [],
   "source": [
    "song_files = get_files('data/song_data')"
   ]
  },
  {
   "cell_type": "code",
   "execution_count": 5,
   "metadata": {},
   "outputs": [
    {
     "name": "stdout",
     "output_type": "stream",
     "text": [
      "filepath: /sourcecode/verna/gitlab/tutorials/udacity-data-engineering/projects/1_data-modeling-postgres/data/song_data/A/A/C/TRAACCG128F92E8A55.json\n"
     ]
    }
   ],
   "source": [
    "filepath = song_files[0]\n",
    "print(f\"filepath: {filepath}\")"
   ]
  },
  {
   "cell_type": "code",
   "execution_count": 6,
   "metadata": {},
   "outputs": [
    {
     "data": {
      "text/html": [
       "<div>\n",
       "<style scoped>\n",
       "    .dataframe tbody tr th:only-of-type {\n",
       "        vertical-align: middle;\n",
       "    }\n",
       "\n",
       "    .dataframe tbody tr th {\n",
       "        vertical-align: top;\n",
       "    }\n",
       "\n",
       "    .dataframe thead th {\n",
       "        text-align: right;\n",
       "    }\n",
       "</style>\n",
       "<table border=\"1\" class=\"dataframe\">\n",
       "  <thead>\n",
       "    <tr style=\"text-align: right;\">\n",
       "      <th></th>\n",
       "      <th>num_songs</th>\n",
       "      <th>artist_id</th>\n",
       "      <th>artist_latitude</th>\n",
       "      <th>artist_longitude</th>\n",
       "      <th>artist_location</th>\n",
       "      <th>artist_name</th>\n",
       "      <th>song_id</th>\n",
       "      <th>title</th>\n",
       "      <th>duration</th>\n",
       "      <th>year</th>\n",
       "    </tr>\n",
       "  </thead>\n",
       "  <tbody>\n",
       "    <tr>\n",
       "      <th>0</th>\n",
       "      <td>1</td>\n",
       "      <td>AR5KOSW1187FB35FF4</td>\n",
       "      <td>49.80388</td>\n",
       "      <td>15.47491</td>\n",
       "      <td>Dubai UAE</td>\n",
       "      <td>Elena</td>\n",
       "      <td>SOZCTXZ12AB0182364</td>\n",
       "      <td>Setanta matins</td>\n",
       "      <td>269.58322</td>\n",
       "      <td>0</td>\n",
       "    </tr>\n",
       "  </tbody>\n",
       "</table>\n",
       "</div>"
      ],
      "text/plain": [
       "   num_songs           artist_id  artist_latitude  artist_longitude  \\\n",
       "0          1  AR5KOSW1187FB35FF4         49.80388          15.47491   \n",
       "\n",
       "  artist_location artist_name             song_id           title   duration  \\\n",
       "0       Dubai UAE       Elena  SOZCTXZ12AB0182364  Setanta matins  269.58322   \n",
       "\n",
       "   year  \n",
       "0     0  "
      ]
     },
     "execution_count": 6,
     "metadata": {},
     "output_type": "execute_result"
    }
   ],
   "source": [
    "df = pd.read_json(filepath, lines=True)\n",
    "df.head(1)"
   ]
  },
  {
   "cell_type": "markdown",
   "metadata": {},
   "source": [
    "## #1: `songs` Table\n",
    "#### Extract Data for Songs Table\n",
    "- Select columns for song ID, title, artist ID, year, and duration\n",
    "- Use `df.values` to select just the values from the dataframe\n",
    "- Index to select the first (only) record in the dataframe\n",
    "- Convert the array to a list and set it to `song_data`"
   ]
  },
  {
   "cell_type": "code",
   "execution_count": 7,
   "metadata": {},
   "outputs": [
    {
     "data": {
      "text/plain": [
       "int"
      ]
     },
     "execution_count": 7,
     "metadata": {},
     "output_type": "execute_result"
    }
   ],
   "source": [
    "song_data = [df.song_id[0], df.title[0], df.artist_id[0], df.year.values[0].astype(int).item(), df.duration[0]]\n",
    "# song_data = [df.song_id[0], df.title[0], df.artist_id[0], df.year[0], df.duration[0]]\n",
    "# song_data = df.loc[:]\n",
    "# song_data = df['song_id', 'title', 'artist_id', 'year', 'duration']\n",
    "# song_data = df['song_id'], df['title'], df['artist_id'], df['year'], df['duration']\n",
    "# song_data = [list(row) for row in df.itertuples(index=False)] \n",
    "type(song_data[3])\n",
    "# song_data"
   ]
  },
  {
   "cell_type": "markdown",
   "metadata": {},
   "source": [
    "#### Insert Record into Song Table\n",
    "Implement the `song_table_insert` query in `sql_queries.py` and run the cell below to insert a record for this song into the `songs` table. Remember to run `create_tables.py` before running the cell below to ensure you've created/resetted the `songs` table in the sparkify database."
   ]
  },
  {
   "cell_type": "code",
   "execution_count": 8,
   "metadata": {},
   "outputs": [
    {
     "name": "stdout",
     "output_type": "stream",
     "text": [
      "query: \n",
      "insert into songs values (%s, %s, %s, %s, %s)\n",
      "\n"
     ]
    }
   ],
   "source": [
    "print(f\"query: {song_table_insert}\")\n",
    "cur.execute(song_table_insert, song_data)\n",
    "conn.commit()"
   ]
  },
  {
   "cell_type": "markdown",
   "metadata": {},
   "source": [
    "Run `test.ipynb` to see if you've successfully added a record to this table."
   ]
  },
  {
   "cell_type": "markdown",
   "metadata": {},
   "source": [
    "## #2: `artists` Table\n",
    "#### Extract Data for Artists Table\n",
    "- Select columns for artist ID, name, location, latitude, and longitude\n",
    "- Use `df.values` to select just the values from the dataframe\n",
    "- Index to select the first (only) record in the dataframe\n",
    "- Convert the array to a list and set it to `artist_data`"
   ]
  },
  {
   "cell_type": "code",
   "execution_count": 9,
   "metadata": {},
   "outputs": [
    {
     "data": {
      "text/plain": [
       "['AR5KOSW1187FB35FF4', 'Elena', 'Dubai UAE', 49.80388, 15.47491]"
      ]
     },
     "execution_count": 9,
     "metadata": {},
     "output_type": "execute_result"
    }
   ],
   "source": [
    "artist_data = [df.artist_id[0], df.artist_name[0], df.artist_location[0], df.artist_latitude[0], df.artist_longitude[0]]\n",
    "artist_data"
   ]
  },
  {
   "cell_type": "markdown",
   "metadata": {},
   "source": [
    "#### Insert Record into Artist Table\n",
    "Implement the `artist_table_insert` query in `sql_queries.py` and run the cell below to insert a record for this song's artist into the `artists` table. Remember to run `create_tables.py` before running the cell below to ensure you've created/resetted the `artists` table in the sparkify database."
   ]
  },
  {
   "cell_type": "code",
   "execution_count": 10,
   "metadata": {},
   "outputs": [],
   "source": [
    "cur.execute(artist_table_insert, artist_data)\n",
    "conn.commit()"
   ]
  },
  {
   "cell_type": "markdown",
   "metadata": {},
   "source": [
    "Run `test.ipynb` to see if you've successfully added a record to this table."
   ]
  },
  {
   "cell_type": "markdown",
   "metadata": {},
   "source": [
    "# Process `log_data`\n",
    "In this part, you'll perform ETL on the second dataset, `log_data`, to create the `time` and `users` dimensional tables, as well as the `songplays` fact table.\n",
    "\n",
    "Let's perform ETL on a single log file and load a single record into each table.\n",
    "- Use the `get_files` function provided above to get a list of all log JSON files in `data/log_data`\n",
    "- Select the first log file in this list\n",
    "- Read the log file and view the data"
   ]
  },
  {
   "cell_type": "code",
   "execution_count": 11,
   "metadata": {},
   "outputs": [],
   "source": [
    "log_files = get_files(\"data/log_data\")"
   ]
  },
  {
   "cell_type": "code",
   "execution_count": 12,
   "metadata": {},
   "outputs": [
    {
     "data": {
      "text/plain": [
       "'/sourcecode/verna/gitlab/tutorials/udacity-data-engineering/projects/1_data-modeling-postgres/data/log_data/2018/11/2018-11-25-events.json'"
      ]
     },
     "execution_count": 12,
     "metadata": {},
     "output_type": "execute_result"
    }
   ],
   "source": [
    "filepath = log_files[2]\n",
    "filepath"
   ]
  },
  {
   "cell_type": "code",
   "execution_count": 13,
   "metadata": {},
   "outputs": [
    {
     "data": {
      "text/html": [
       "<div>\n",
       "<style scoped>\n",
       "    .dataframe tbody tr th:only-of-type {\n",
       "        vertical-align: middle;\n",
       "    }\n",
       "\n",
       "    .dataframe tbody tr th {\n",
       "        vertical-align: top;\n",
       "    }\n",
       "\n",
       "    .dataframe thead th {\n",
       "        text-align: right;\n",
       "    }\n",
       "</style>\n",
       "<table border=\"1\" class=\"dataframe\">\n",
       "  <thead>\n",
       "    <tr style=\"text-align: right;\">\n",
       "      <th></th>\n",
       "      <th>artist</th>\n",
       "      <th>auth</th>\n",
       "      <th>firstName</th>\n",
       "      <th>gender</th>\n",
       "      <th>itemInSession</th>\n",
       "      <th>lastName</th>\n",
       "      <th>length</th>\n",
       "      <th>level</th>\n",
       "      <th>location</th>\n",
       "      <th>method</th>\n",
       "      <th>page</th>\n",
       "      <th>registration</th>\n",
       "      <th>sessionId</th>\n",
       "      <th>song</th>\n",
       "      <th>status</th>\n",
       "      <th>ts</th>\n",
       "      <th>userAgent</th>\n",
       "      <th>userId</th>\n",
       "    </tr>\n",
       "  </thead>\n",
       "  <tbody>\n",
       "    <tr>\n",
       "      <th>0</th>\n",
       "      <td>matchbox twenty</td>\n",
       "      <td>Logged In</td>\n",
       "      <td>Jayden</td>\n",
       "      <td>F</td>\n",
       "      <td>0</td>\n",
       "      <td>Duffy</td>\n",
       "      <td>177.65832</td>\n",
       "      <td>free</td>\n",
       "      <td>Seattle-Tacoma-Bellevue, WA</td>\n",
       "      <td>PUT</td>\n",
       "      <td>NextSong</td>\n",
       "      <td>1.540146e+12</td>\n",
       "      <td>846</td>\n",
       "      <td>Argue (LP Version)</td>\n",
       "      <td>200</td>\n",
       "      <td>1543109954796</td>\n",
       "      <td>\"Mozilla/5.0 (iPhone; CPU iPhone OS 7_1_2 like...</td>\n",
       "      <td>76</td>\n",
       "    </tr>\n",
       "    <tr>\n",
       "      <th>1</th>\n",
       "      <td>The Lonely Island / T-Pain</td>\n",
       "      <td>Logged In</td>\n",
       "      <td>Jayden</td>\n",
       "      <td>F</td>\n",
       "      <td>1</td>\n",
       "      <td>Duffy</td>\n",
       "      <td>156.23791</td>\n",
       "      <td>free</td>\n",
       "      <td>Seattle-Tacoma-Bellevue, WA</td>\n",
       "      <td>PUT</td>\n",
       "      <td>NextSong</td>\n",
       "      <td>1.540146e+12</td>\n",
       "      <td>846</td>\n",
       "      <td>I'm On A Boat</td>\n",
       "      <td>200</td>\n",
       "      <td>1543110131796</td>\n",
       "      <td>\"Mozilla/5.0 (iPhone; CPU iPhone OS 7_1_2 like...</td>\n",
       "      <td>76</td>\n",
       "    </tr>\n",
       "    <tr>\n",
       "      <th>2</th>\n",
       "      <td>None</td>\n",
       "      <td>Logged In</td>\n",
       "      <td>Jayden</td>\n",
       "      <td>F</td>\n",
       "      <td>2</td>\n",
       "      <td>Duffy</td>\n",
       "      <td>NaN</td>\n",
       "      <td>free</td>\n",
       "      <td>Seattle-Tacoma-Bellevue, WA</td>\n",
       "      <td>GET</td>\n",
       "      <td>Home</td>\n",
       "      <td>1.540146e+12</td>\n",
       "      <td>846</td>\n",
       "      <td>None</td>\n",
       "      <td>200</td>\n",
       "      <td>1543110132796</td>\n",
       "      <td>\"Mozilla/5.0 (iPhone; CPU iPhone OS 7_1_2 like...</td>\n",
       "      <td>76</td>\n",
       "    </tr>\n",
       "    <tr>\n",
       "      <th>3</th>\n",
       "      <td>None</td>\n",
       "      <td>Logged In</td>\n",
       "      <td>Jayden</td>\n",
       "      <td>F</td>\n",
       "      <td>3</td>\n",
       "      <td>Duffy</td>\n",
       "      <td>NaN</td>\n",
       "      <td>free</td>\n",
       "      <td>Seattle-Tacoma-Bellevue, WA</td>\n",
       "      <td>GET</td>\n",
       "      <td>Settings</td>\n",
       "      <td>1.540146e+12</td>\n",
       "      <td>846</td>\n",
       "      <td>None</td>\n",
       "      <td>200</td>\n",
       "      <td>1543110168796</td>\n",
       "      <td>\"Mozilla/5.0 (iPhone; CPU iPhone OS 7_1_2 like...</td>\n",
       "      <td>76</td>\n",
       "    </tr>\n",
       "    <tr>\n",
       "      <th>4</th>\n",
       "      <td>None</td>\n",
       "      <td>Logged In</td>\n",
       "      <td>Jayden</td>\n",
       "      <td>F</td>\n",
       "      <td>4</td>\n",
       "      <td>Duffy</td>\n",
       "      <td>NaN</td>\n",
       "      <td>free</td>\n",
       "      <td>Seattle-Tacoma-Bellevue, WA</td>\n",
       "      <td>PUT</td>\n",
       "      <td>Save Settings</td>\n",
       "      <td>1.540146e+12</td>\n",
       "      <td>846</td>\n",
       "      <td>None</td>\n",
       "      <td>307</td>\n",
       "      <td>1543110169796</td>\n",
       "      <td>\"Mozilla/5.0 (iPhone; CPU iPhone OS 7_1_2 like...</td>\n",
       "      <td>76</td>\n",
       "    </tr>\n",
       "  </tbody>\n",
       "</table>\n",
       "</div>"
      ],
      "text/plain": [
       "                       artist       auth firstName gender  itemInSession  \\\n",
       "0             matchbox twenty  Logged In    Jayden      F              0   \n",
       "1  The Lonely Island / T-Pain  Logged In    Jayden      F              1   \n",
       "2                        None  Logged In    Jayden      F              2   \n",
       "3                        None  Logged In    Jayden      F              3   \n",
       "4                        None  Logged In    Jayden      F              4   \n",
       "\n",
       "  lastName     length level                     location method  \\\n",
       "0    Duffy  177.65832  free  Seattle-Tacoma-Bellevue, WA    PUT   \n",
       "1    Duffy  156.23791  free  Seattle-Tacoma-Bellevue, WA    PUT   \n",
       "2    Duffy        NaN  free  Seattle-Tacoma-Bellevue, WA    GET   \n",
       "3    Duffy        NaN  free  Seattle-Tacoma-Bellevue, WA    GET   \n",
       "4    Duffy        NaN  free  Seattle-Tacoma-Bellevue, WA    PUT   \n",
       "\n",
       "            page  registration  sessionId                song  status  \\\n",
       "0       NextSong  1.540146e+12        846  Argue (LP Version)     200   \n",
       "1       NextSong  1.540146e+12        846       I'm On A Boat     200   \n",
       "2           Home  1.540146e+12        846                None     200   \n",
       "3       Settings  1.540146e+12        846                None     200   \n",
       "4  Save Settings  1.540146e+12        846                None     307   \n",
       "\n",
       "              ts                                          userAgent userId  \n",
       "0  1543109954796  \"Mozilla/5.0 (iPhone; CPU iPhone OS 7_1_2 like...     76  \n",
       "1  1543110131796  \"Mozilla/5.0 (iPhone; CPU iPhone OS 7_1_2 like...     76  \n",
       "2  1543110132796  \"Mozilla/5.0 (iPhone; CPU iPhone OS 7_1_2 like...     76  \n",
       "3  1543110168796  \"Mozilla/5.0 (iPhone; CPU iPhone OS 7_1_2 like...     76  \n",
       "4  1543110169796  \"Mozilla/5.0 (iPhone; CPU iPhone OS 7_1_2 like...     76  "
      ]
     },
     "execution_count": 13,
     "metadata": {},
     "output_type": "execute_result"
    }
   ],
   "source": [
    "df = pd.read_json(filepath, lines=True)\n",
    "df.head()"
   ]
  },
  {
   "cell_type": "markdown",
   "metadata": {},
   "source": [
    "## #3: `time` Table\n",
    "#### Extract Data for Time Table\n",
    "- Filter records by `NextSong` action\n",
    "- Convert the `ts` timestamp column to datetime\n",
    "  - Hint: the current timestamp is in milliseconds\n",
    "- Extract the timestamp, hour, day, week of year, month, year, and weekday from the `ts` column and set `time_data` to a list containing these values in order\n",
    "  - Hint: use pandas' [`dt` attribute](https://pandas.pydata.org/pandas-docs/stable/reference/api/pandas.Series.dt.html) to access easily datetimelike properties.\n",
    "- Specify labels for these columns and set to `column_labels`\n",
    "- Create a dataframe, `time_df,` containing the time data for this file by combining `column_labels` and `time_data` into a dictionary and converting this into a dataframe"
   ]
  },
  {
   "cell_type": "code",
   "execution_count": 14,
   "metadata": {},
   "outputs": [
    {
     "data": {
      "text/html": [
       "<div>\n",
       "<style scoped>\n",
       "    .dataframe tbody tr th:only-of-type {\n",
       "        vertical-align: middle;\n",
       "    }\n",
       "\n",
       "    .dataframe tbody tr th {\n",
       "        vertical-align: top;\n",
       "    }\n",
       "\n",
       "    .dataframe thead th {\n",
       "        text-align: right;\n",
       "    }\n",
       "</style>\n",
       "<table border=\"1\" class=\"dataframe\">\n",
       "  <thead>\n",
       "    <tr style=\"text-align: right;\">\n",
       "      <th></th>\n",
       "      <th>artist</th>\n",
       "      <th>auth</th>\n",
       "      <th>firstName</th>\n",
       "      <th>gender</th>\n",
       "      <th>itemInSession</th>\n",
       "      <th>lastName</th>\n",
       "      <th>length</th>\n",
       "      <th>level</th>\n",
       "      <th>location</th>\n",
       "      <th>method</th>\n",
       "      <th>page</th>\n",
       "      <th>registration</th>\n",
       "      <th>sessionId</th>\n",
       "      <th>song</th>\n",
       "      <th>status</th>\n",
       "      <th>ts</th>\n",
       "      <th>userAgent</th>\n",
       "      <th>userId</th>\n",
       "    </tr>\n",
       "  </thead>\n",
       "  <tbody>\n",
       "    <tr>\n",
       "      <th>0</th>\n",
       "      <td>matchbox twenty</td>\n",
       "      <td>Logged In</td>\n",
       "      <td>Jayden</td>\n",
       "      <td>F</td>\n",
       "      <td>0</td>\n",
       "      <td>Duffy</td>\n",
       "      <td>177.65832</td>\n",
       "      <td>free</td>\n",
       "      <td>Seattle-Tacoma-Bellevue, WA</td>\n",
       "      <td>PUT</td>\n",
       "      <td>NextSong</td>\n",
       "      <td>1.540146e+12</td>\n",
       "      <td>846</td>\n",
       "      <td>Argue (LP Version)</td>\n",
       "      <td>200</td>\n",
       "      <td>1543109954796</td>\n",
       "      <td>\"Mozilla/5.0 (iPhone; CPU iPhone OS 7_1_2 like...</td>\n",
       "      <td>76</td>\n",
       "    </tr>\n",
       "    <tr>\n",
       "      <th>1</th>\n",
       "      <td>The Lonely Island / T-Pain</td>\n",
       "      <td>Logged In</td>\n",
       "      <td>Jayden</td>\n",
       "      <td>F</td>\n",
       "      <td>1</td>\n",
       "      <td>Duffy</td>\n",
       "      <td>156.23791</td>\n",
       "      <td>free</td>\n",
       "      <td>Seattle-Tacoma-Bellevue, WA</td>\n",
       "      <td>PUT</td>\n",
       "      <td>NextSong</td>\n",
       "      <td>1.540146e+12</td>\n",
       "      <td>846</td>\n",
       "      <td>I'm On A Boat</td>\n",
       "      <td>200</td>\n",
       "      <td>1543110131796</td>\n",
       "      <td>\"Mozilla/5.0 (iPhone; CPU iPhone OS 7_1_2 like...</td>\n",
       "      <td>76</td>\n",
       "    </tr>\n",
       "    <tr>\n",
       "      <th>5</th>\n",
       "      <td>John Mayer</td>\n",
       "      <td>Logged In</td>\n",
       "      <td>Wyatt</td>\n",
       "      <td>M</td>\n",
       "      <td>0</td>\n",
       "      <td>Scott</td>\n",
       "      <td>275.27791</td>\n",
       "      <td>free</td>\n",
       "      <td>Eureka-Arcata-Fortuna, CA</td>\n",
       "      <td>PUT</td>\n",
       "      <td>NextSong</td>\n",
       "      <td>1.540872e+12</td>\n",
       "      <td>856</td>\n",
       "      <td>All We Ever Do Is Say Goodbye</td>\n",
       "      <td>200</td>\n",
       "      <td>1543113347796</td>\n",
       "      <td>Mozilla/5.0 (Windows NT 6.1; WOW64; Trident/7....</td>\n",
       "      <td>9</td>\n",
       "    </tr>\n",
       "    <tr>\n",
       "      <th>7</th>\n",
       "      <td>10_000 Maniacs</td>\n",
       "      <td>Logged In</td>\n",
       "      <td>Wyatt</td>\n",
       "      <td>M</td>\n",
       "      <td>2</td>\n",
       "      <td>Scott</td>\n",
       "      <td>251.87220</td>\n",
       "      <td>free</td>\n",
       "      <td>Eureka-Arcata-Fortuna, CA</td>\n",
       "      <td>PUT</td>\n",
       "      <td>NextSong</td>\n",
       "      <td>1.540872e+12</td>\n",
       "      <td>856</td>\n",
       "      <td>Gun Shy (LP Version)</td>\n",
       "      <td>200</td>\n",
       "      <td>1543113622796</td>\n",
       "      <td>Mozilla/5.0 (Windows NT 6.1; WOW64; Trident/7....</td>\n",
       "      <td>9</td>\n",
       "    </tr>\n",
       "    <tr>\n",
       "      <th>8</th>\n",
       "      <td>Leona Lewis</td>\n",
       "      <td>Logged In</td>\n",
       "      <td>Chloe</td>\n",
       "      <td>F</td>\n",
       "      <td>0</td>\n",
       "      <td>Cuevas</td>\n",
       "      <td>203.88526</td>\n",
       "      <td>paid</td>\n",
       "      <td>San Francisco-Oakland-Hayward, CA</td>\n",
       "      <td>PUT</td>\n",
       "      <td>NextSong</td>\n",
       "      <td>1.540941e+12</td>\n",
       "      <td>916</td>\n",
       "      <td>Forgive Me</td>\n",
       "      <td>200</td>\n",
       "      <td>1543122348796</td>\n",
       "      <td>Mozilla/5.0 (Windows NT 5.1; rv:31.0) Gecko/20...</td>\n",
       "      <td>49</td>\n",
       "    </tr>\n",
       "  </tbody>\n",
       "</table>\n",
       "</div>"
      ],
      "text/plain": [
       "                       artist       auth firstName gender  itemInSession  \\\n",
       "0             matchbox twenty  Logged In    Jayden      F              0   \n",
       "1  The Lonely Island / T-Pain  Logged In    Jayden      F              1   \n",
       "5                  John Mayer  Logged In     Wyatt      M              0   \n",
       "7              10_000 Maniacs  Logged In     Wyatt      M              2   \n",
       "8                 Leona Lewis  Logged In     Chloe      F              0   \n",
       "\n",
       "  lastName     length level                           location method  \\\n",
       "0    Duffy  177.65832  free        Seattle-Tacoma-Bellevue, WA    PUT   \n",
       "1    Duffy  156.23791  free        Seattle-Tacoma-Bellevue, WA    PUT   \n",
       "5    Scott  275.27791  free          Eureka-Arcata-Fortuna, CA    PUT   \n",
       "7    Scott  251.87220  free          Eureka-Arcata-Fortuna, CA    PUT   \n",
       "8   Cuevas  203.88526  paid  San Francisco-Oakland-Hayward, CA    PUT   \n",
       "\n",
       "       page  registration  sessionId                           song  status  \\\n",
       "0  NextSong  1.540146e+12        846             Argue (LP Version)     200   \n",
       "1  NextSong  1.540146e+12        846                  I'm On A Boat     200   \n",
       "5  NextSong  1.540872e+12        856  All We Ever Do Is Say Goodbye     200   \n",
       "7  NextSong  1.540872e+12        856           Gun Shy (LP Version)     200   \n",
       "8  NextSong  1.540941e+12        916                     Forgive Me     200   \n",
       "\n",
       "              ts                                          userAgent userId  \n",
       "0  1543109954796  \"Mozilla/5.0 (iPhone; CPU iPhone OS 7_1_2 like...     76  \n",
       "1  1543110131796  \"Mozilla/5.0 (iPhone; CPU iPhone OS 7_1_2 like...     76  \n",
       "5  1543113347796  Mozilla/5.0 (Windows NT 6.1; WOW64; Trident/7....      9  \n",
       "7  1543113622796  Mozilla/5.0 (Windows NT 6.1; WOW64; Trident/7....      9  \n",
       "8  1543122348796  Mozilla/5.0 (Windows NT 5.1; rv:31.0) Gecko/20...     49  "
      ]
     },
     "execution_count": 14,
     "metadata": {},
     "output_type": "execute_result"
    }
   ],
   "source": [
    "df = pd.read_json(filepath, lines=True)\n",
    "df = df[df['page']=='NextSong']\n",
    "df.head()"
   ]
  },
  {
   "cell_type": "code",
   "execution_count": 15,
   "metadata": {},
   "outputs": [
    {
     "data": {
      "text/plain": [
       "0   2018-11-25 01:39:14.796\n",
       "1   2018-11-25 01:42:11.796\n",
       "5   2018-11-25 02:35:47.796\n",
       "7   2018-11-25 02:40:22.796\n",
       "8   2018-11-25 05:05:48.796\n",
       "Name: ts, dtype: datetime64[ns]"
      ]
     },
     "execution_count": 15,
     "metadata": {},
     "output_type": "execute_result"
    }
   ],
   "source": [
    "t = df['ts']\n",
    "t = pd.to_datetime(t, unit='ms')\n",
    "t.head()\n",
    "\n",
    "# print(t.dt.hour.values[0:5])"
   ]
  },
  {
   "cell_type": "code",
   "execution_count": 50,
   "metadata": {},
   "outputs": [
    {
     "name": "stdout",
     "output_type": "stream",
     "text": [
      "(numpy.datetime64('2018-11-25T01:39:14.796000000'), 1, 25, 47, 11, 2018, 6)\n",
      "time_data type: <class 'tuple'>\n"
     ]
    }
   ],
   "source": [
    "# Extract the timestamp, hour, day, week of year, month, year, and weekday from the `ts` column\n",
    "# and set `time_data` to a list containing these values in order\n",
    "\n",
    "time_data = (t.values[0], t.dt.hour.values[0], t.dt.day.values[0],\n",
    "             t.dt.isocalendar().week.values[0], t.dt.month.values[0],\n",
    "             t.dt.year.values[0], t.dt.weekday.values[0])\n",
    "\n",
    "# time_data = (t.values, t.dt.hour.values, t.dt.day.values,\n",
    "#              t.dt.isocalendar().week.values, t.dt.month.values,\n",
    "#              t.dt.year.values, t.dt.weekday.values)\n",
    "\n",
    "\n",
    "print(time_data)\n",
    "print(f\"time_data type: {type(time_data)}\")\n",
    "\n",
    "#Specify labels for these columns and set to `column_labels`\n",
    "column_labels = ('start_time', 'hour', 'day', 'week', 'month', 'year', 'weekday')\n",
    "# type(column_labels)"
   ]
  },
  {
   "cell_type": "code",
   "execution_count": 68,
   "metadata": {},
   "outputs": [
    {
     "name": "stdout",
     "output_type": "stream",
     "text": [
      "rows: 1\n"
     ]
    },
    {
     "data": {
      "text/html": [
       "<div>\n",
       "<style scoped>\n",
       "    .dataframe tbody tr th:only-of-type {\n",
       "        vertical-align: middle;\n",
       "    }\n",
       "\n",
       "    .dataframe tbody tr th {\n",
       "        vertical-align: top;\n",
       "    }\n",
       "\n",
       "    .dataframe thead th {\n",
       "        text-align: right;\n",
       "    }\n",
       "</style>\n",
       "<table border=\"1\" class=\"dataframe\">\n",
       "  <thead>\n",
       "    <tr style=\"text-align: right;\">\n",
       "      <th></th>\n",
       "      <th>start_time</th>\n",
       "      <th>hour</th>\n",
       "      <th>day</th>\n",
       "      <th>week</th>\n",
       "      <th>month</th>\n",
       "      <th>year</th>\n",
       "      <th>weekday</th>\n",
       "    </tr>\n",
       "  </thead>\n",
       "  <tbody>\n",
       "    <tr>\n",
       "      <th>0</th>\n",
       "      <td>2018-11-25 01:39:14.796</td>\n",
       "      <td>1</td>\n",
       "      <td>25</td>\n",
       "      <td>47</td>\n",
       "      <td>11</td>\n",
       "      <td>2018</td>\n",
       "      <td>6</td>\n",
       "    </tr>\n",
       "  </tbody>\n",
       "</table>\n",
       "</div>"
      ],
      "text/plain": [
       "               start_time  hour  day  week  month  year  weekday\n",
       "0 2018-11-25 01:39:14.796     1   25    47     11  2018        6"
      ]
     },
     "execution_count": 68,
     "metadata": {},
     "output_type": "execute_result"
    }
   ],
   "source": [
    "time_df = pd.DataFrame([time_data], columns=column_labels)\n",
    "print(f\"rows: {time_df.count()[0]}\")\n",
    "time_df"
   ]
  },
  {
   "cell_type": "markdown",
   "metadata": {},
   "source": [
    "#### Insert Records into Time Table\n",
    "Implement the `time_table_insert` query in `sql_queries.py` and run the cell below to insert records for the timestamps in this log file into the `time` table. Remember to run `create_tables.py` before running the cell below to ensure you've created/resetted the `time` table in the sparkify database."
   ]
  },
  {
   "cell_type": "code",
   "execution_count": null,
   "metadata": {},
   "outputs": [],
   "source": [
    "for i, row in time_df.iterrows():\n",
    "    cur.execute(time_table_insert, list(row))\n",
    "    conn.commit()"
   ]
  },
  {
   "cell_type": "markdown",
   "metadata": {},
   "source": [
    "Run `test.ipynb` to see if you've successfully added records to this table."
   ]
  },
  {
   "cell_type": "markdown",
   "metadata": {},
   "source": [
    "## #4: `users` Table\n",
    "#### Extract Data for Users Table\n",
    "- Select columns for user ID, first name, last name, gender and level and set to `user_df`"
   ]
  },
  {
   "cell_type": "code",
   "execution_count": null,
   "metadata": {},
   "outputs": [],
   "source": [
    "user_df = "
   ]
  },
  {
   "cell_type": "markdown",
   "metadata": {},
   "source": [
    "#### Insert Records into Users Table\n",
    "Implement the `user_table_insert` query in `sql_queries.py` and run the cell below to insert records for the users in this log file into the `users` table. Remember to run `create_tables.py` before running the cell below to ensure you've created/resetted the `users` table in the sparkify database."
   ]
  },
  {
   "cell_type": "code",
   "execution_count": null,
   "metadata": {},
   "outputs": [],
   "source": [
    "for i, row in user_df.iterrows():\n",
    "    cur.execute(user_table_insert, row)\n",
    "    conn.commit()"
   ]
  },
  {
   "cell_type": "markdown",
   "metadata": {},
   "source": [
    "Run `test.ipynb` to see if you've successfully added records to this table."
   ]
  },
  {
   "cell_type": "markdown",
   "metadata": {},
   "source": [
    "## #5: `songplays` Table\n",
    "#### Extract Data and Songplays Table\n",
    "This one is a little more complicated since information from the songs table, artists table, and original log file are all needed for the `songplays` table. Since the log file does not specify an ID for either the song or the artist, you'll need to get the song ID and artist ID by querying the songs and artists tables to find matches based on song title, artist name, and song duration time.\n",
    "- Implement the `song_select` query in `sql_queries.py` to find the song ID and artist ID based on the title, artist name, and duration of a song.\n",
    "- Select the timestamp, user ID, level, song ID, artist ID, session ID, location, and user agent and set to `songplay_data`\n",
    "\n",
    "#### Insert Records into Songplays Table\n",
    "- Implement the `songplay_table_insert` query and run the cell below to insert records for the songplay actions in this log file into the `songplays` table. Remember to run `create_tables.py` before running the cell below to ensure you've created/resetted the `songplays` table in the sparkify database."
   ]
  },
  {
   "cell_type": "code",
   "execution_count": null,
   "metadata": {},
   "outputs": [],
   "source": [
    "for index, row in df.iterrows():\n",
    "\n",
    "    # get songid and artistid from song and artist tables\n",
    "    cur.execute(song_select, (row.song, row.artist, row.length))\n",
    "    results = cur.fetchone()\n",
    "    \n",
    "    if results:\n",
    "        songid, artistid = results\n",
    "    else:\n",
    "        songid, artistid = None, None\n",
    "\n",
    "    # insert songplay record\n",
    "    songplay_data = ()\n",
    "    cur.execute(songplay_table_insert, songplay_data)\n",
    "    conn.commit()"
   ]
  },
  {
   "cell_type": "markdown",
   "metadata": {},
   "source": [
    "Run `test.ipynb` to see if you've successfully added records to this table."
   ]
  },
  {
   "cell_type": "markdown",
   "metadata": {},
   "source": [
    "# Close Connection to Sparkify Database"
   ]
  },
  {
   "cell_type": "code",
   "execution_count": null,
   "metadata": {},
   "outputs": [],
   "source": [
    "conn.close()"
   ]
  },
  {
   "cell_type": "markdown",
   "metadata": {},
   "source": [
    "# Implement `etl.py`\n",
    "Use what you've completed in this notebook to implement `etl.py`."
   ]
  },
  {
   "cell_type": "code",
   "execution_count": null,
   "metadata": {},
   "outputs": [],
   "source": []
  }
 ],
 "metadata": {
  "kernelspec": {
   "display_name": "Python 3 (ipykernel)",
   "language": "python",
   "name": "python3"
  },
  "language_info": {
   "codemirror_mode": {
    "name": "ipython",
    "version": 3
   },
   "file_extension": ".py",
   "mimetype": "text/x-python",
   "name": "python",
   "nbconvert_exporter": "python",
   "pygments_lexer": "ipython3",
   "version": "3.10.6"
  }
 },
 "nbformat": 4,
 "nbformat_minor": 2
}
