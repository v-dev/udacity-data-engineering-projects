{
 "cells": [
  {
   "cell_type": "code",
   "execution_count": null,
   "id": "d543e1fb",
   "metadata": {},
   "outputs": [],
   "source": [
    "import csv\n",
    "import glob\n",
    "import os\n",
    "import time\n",
    "\n",
    "import pandas as pd\n",
    "from cassandra.cluster import Cluster\n",
    "\n",
    "import players_by_song\n",
    "import songs_by_player\n",
    "import songs_by_session\n",
    "\n",
    "keyspace = \"udacity\"\n",
    "final_csv = 'event_datafile_new.csv'"
   ]
  },
  {
   "cell_type": "code",
   "execution_count": null,
   "id": "72b7f116",
   "metadata": {},
   "outputs": [],
   "source": [
    "def create_filepaths():\n",
    "    \"\"\"\n",
    "    copied from template notebook: create a list of csv files to loop through\n",
    "    \"\"\"\n",
    "    filepath = os.getcwd() + '/event_data'\n",
    "\n",
    "    for root, dirs, files in os.walk(filepath):\n",
    "        file_path_list = glob.glob(os.path.join(root, '*'))\n",
    "    return file_path_list"
   ]
  },
  {
   "cell_type": "code",
   "execution_count": null,
   "id": "2ba633d5",
   "metadata": {},
   "outputs": [],
   "source": [
    "def create_final_csv(file_path_list):\n",
    "    \"\"\"\n",
    "    copied from template notebook: create smaller, final CSV for inserting rows\n",
    "    \"\"\"\n",
    "    full_data_rows_list = []\n",
    "\n",
    "    for f in file_path_list:\n",
    "        with open(f, 'r', encoding='utf8', newline='') as csvfile:\n",
    "            csvreader = csv.reader(csvfile)\n",
    "            next(csvreader)\n",
    "            for line in csvreader:\n",
    "                full_data_rows_list.append(line)\n",
    "\n",
    "    csv.register_dialect('myDialect', quoting=csv.QUOTE_ALL, skipinitialspace=True)\n",
    "\n",
    "    with open(final_csv, 'w', encoding='utf8', newline='') as f:\n",
    "        writer = csv.writer(f, dialect='myDialect')\n",
    "        writer.writerow(['artist', 'firstName', 'gender', 'itemInSession', 'lastName', 'length',\n",
    "                         'level', 'location', 'sessionId', 'song', 'userId'])\n",
    "        for row in full_data_rows_list:\n",
    "            if row[0] == '':\n",
    "                continue\n",
    "            writer.writerow((row[0], row[2], row[3], row[4], row[5], row[6], row[7], row[8], row[12], row[13], row[16]))\n",
    "\n",
    "    with open('event_datafile_new.csv', 'r', encoding='utf8') as f:\n",
    "        final_count = sum(1 for line in f)\n",
    "\n",
    "    assert final_count == 6821"
   ]
  },
  {
   "cell_type": "code",
   "execution_count": null,
   "id": "56bf5a6f",
   "metadata": {},
   "outputs": [],
   "source": [
    "def recreate_keyspace(session):\n",
    "    \"\"\"\n",
    "    create keyspace, if necessary\n",
    "    \"\"\"\n",
    "    create_keyspace_command = f\"CREATE KEYSPACE IF NOT EXISTS {keyspace} WITH REPLICATION = \"\n",
    "    create_keyspace_command += \"{ 'class' : 'SimpleStrategy', 'replication_factor' : 1 }\"\n",
    "    session.execute(create_keyspace_command)"
   ]
  },
  {
   "cell_type": "code",
   "execution_count": null,
   "id": "bfb9512e",
   "metadata": {},
   "outputs": [],
   "source": [
    "def use_keyspace(session):\n",
    "    \"\"\"\n",
    "    set the session keyspace\n",
    "    \"\"\"\n",
    "    session.set_keyspace(keyspace)"
   ]
  },
  {
   "cell_type": "code",
   "execution_count": null,
   "id": "607b9d43",
   "metadata": {},
   "outputs": [],
   "source": [
    "def drop_tables(session):\n",
    "    \"\"\"\n",
    "    drop tables, if they exist\n",
    "    \"\"\"\n",
    "    start = time.perf_counter()\n",
    "    session.execute(songs_by_session.drop)\n",
    "    session.execute(songs_by_player.drop)\n",
    "    session.execute(players_by_song.drop)\n",
    "    stop = time.perf_counter()\n",
    "    print(f\"drop_tables in {stop - start:0.4f} seconds\")"
   ]
  },
  {
   "cell_type": "code",
   "execution_count": null,
   "id": "96aaa45f",
   "metadata": {},
   "outputs": [],
   "source": [
    "def create_tables(session):\n",
    "    \"\"\"\n",
    "    (re)create tables\n",
    "    \"\"\"\n",
    "    start = time.perf_counter()\n",
    "    session.execute(songs_by_session.create)\n",
    "    session.execute(songs_by_player.create)\n",
    "    session.execute(players_by_song.create)\n",
    "    stop = time.perf_counter()\n",
    "    print(f\"create_tables in {stop - start:0.4f} seconds\")"
   ]
  },
  {
   "cell_type": "code",
   "execution_count": null,
   "id": "b7c23e6b",
   "metadata": {},
   "outputs": [],
   "source": [
    "def populate_tables(session):\n",
    "    \"\"\"\n",
    "    loop through all the rows in the combined CSV, `final_csv`, and populate tables with their data\n",
    "\n",
    "    Note: not all fields in the CSV are currently used\n",
    "    \"\"\"\n",
    "    start = time.perf_counter()\n",
    "    with open(final_csv, encoding='utf8') as f:\n",
    "        csvreader = csv.reader(f)\n",
    "        next(csvreader)  # skip header\n",
    "        for line in csvreader:\n",
    "            artist_name = line[0]\n",
    "            first_name = line[1]\n",
    "            gender = line[2]\n",
    "            item_in_session = int(line[3])\n",
    "            last_name = line[4]\n",
    "            length = float(line[5])\n",
    "            level = line[6]\n",
    "            location = line[7]\n",
    "            session_id = int(line[8])\n",
    "            song = line[9]\n",
    "            user_id = int(line[10])\n",
    "            session.execute(songs_by_session.insert, (artist_name, song, length, session_id, item_in_session))\n",
    "            session.execute(songs_by_player.insert,\n",
    "                            (artist_name, song, f\"{first_name} {last_name}\", user_id, session_id, item_in_session))\n",
    "            session.execute(players_by_song.insert, (song, user_id, f\"{first_name} {last_name}\"))\n",
    "\n",
    "        stop = time.perf_counter()\n",
    "        print(f\"inserts in {stop - start:0.4f} seconds\")"
   ]
  },
  {
   "cell_type": "code",
   "execution_count": null,
   "id": "f1b1d35c",
   "metadata": {},
   "outputs": [],
   "source": [
    "def select_tables(session):\n",
    "    \"\"\"\n",
    "    Run initial given queries and store results\n",
    "    \"\"\"\n",
    "    songs_by_session_df = pd.DataFrame(list(session.execute(songs_by_session.select)))\n",
    "    songs_by_player_df = pd.DataFrame(list(session.execute(songs_by_player.select)))\n",
    "    players_by_song_df = pd.DataFrame(list(session.execute(players_by_song.select)))\n",
    "\n",
    "    return {'query1': songs_by_session_df,\n",
    "            'query2': songs_by_player_df,\n",
    "            'query3': players_by_song_df}"
   ]
  },
  {
   "cell_type": "code",
   "execution_count": null,
   "id": "c8e98c97",
   "metadata": {},
   "outputs": [],
   "source": [
    "cluster = None\n",
    "session = None\n",
    "results = {}\n",
    "\n",
    "filepaths = create_filepaths()\n",
    "create_final_csv(filepaths)\n",
    "\n",
    "try:\n",
    "    cluster = Cluster(['127.0.0.1'])\n",
    "    session = cluster.connect()\n",
    "\n",
    "    recreate_keyspace(session)\n",
    "    use_keyspace(session)\n",
    "    drop_tables(session)\n",
    "    create_tables(session)\n",
    "    populate_tables(session)\n",
    "    results = select_tables(session)\n",
    "\n",
    "except Exception as e:\n",
    "    print(f\"Exception:\\n{e}\")\n",
    "finally:\n",
    "    session.shutdown()\n",
    "    cluster.shutdown()"
   ]
  },
  {
   "cell_type": "markdown",
   "id": "f809e182",
   "metadata": {},
   "source": [
    "# Results"
   ]
  },
  {
   "cell_type": "markdown",
   "id": "bf65c762",
   "metadata": {},
   "source": [
    "## Query 1: artist, song title and song's length ... that was heard during sessionId = 338, and itemInSession  = 4"
   ]
  },
  {
   "cell_type": "code",
   "execution_count": null,
   "id": "743c3a1b",
   "metadata": {},
   "outputs": [],
   "source": [
    "results['query1']"
   ]
  },
  {
   "cell_type": "markdown",
   "id": "d11205f3",
   "metadata": {},
   "source": [
    "## Query 2: only name of artist, song (sorted by itemInSession) and user (first and last name) for userid = 10, sessionid = 182"
   ]
  },
  {
   "cell_type": "code",
   "execution_count": null,
   "id": "b647d8c8",
   "metadata": {},
   "outputs": [],
   "source": [
    "results['query2']"
   ]
  },
  {
   "cell_type": "markdown",
   "id": "96d5051d",
   "metadata": {},
   "source": [
    "## Query 3: very user name (first and last) ... who listened to the song 'All Hands Against His Own'"
   ]
  },
  {
   "cell_type": "code",
   "execution_count": null,
   "id": "f7c37e64",
   "metadata": {},
   "outputs": [],
   "source": [
    "results['query3']"
   ]
  }
 ],
 "metadata": {
  "kernelspec": {
   "display_name": "Python 3 (ipykernel)",
   "language": "python",
   "name": "python3"
  },
  "language_info": {
   "codemirror_mode": {
    "name": "ipython",
    "version": 3
   },
   "file_extension": ".py",
   "mimetype": "text/x-python",
   "name": "python",
   "nbconvert_exporter": "python",
   "pygments_lexer": "ipython3",
   "version": "3.10.6"
  }
 },
 "nbformat": 4,
 "nbformat_minor": 5
}
