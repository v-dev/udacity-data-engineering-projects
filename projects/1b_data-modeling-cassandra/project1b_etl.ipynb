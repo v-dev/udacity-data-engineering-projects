{
 "cells": [
  {
   "cell_type": "code",
   "execution_count": 1,
   "id": "d543e1fb",
   "metadata": {},
   "outputs": [],
   "source": [
    "import csv\n",
    "import glob\n",
    "import os\n",
    "import time\n",
    "\n",
    "import pandas as pd\n",
    "from cassandra.cluster import Cluster\n",
    "\n",
    "import players_by_song\n",
    "import songs_by_player\n",
    "import songs_by_session\n",
    "\n",
    "keyspace = \"udacity\"\n",
    "final_csv = 'event_datafile_new.csv'"
   ]
  },
  {
   "cell_type": "code",
   "execution_count": 2,
   "id": "72b7f116",
   "metadata": {},
   "outputs": [],
   "source": [
    "def create_filepaths():\n",
    "    \"\"\"\n",
    "    copied from template notebook: create a list of csv files to loop through\n",
    "    \"\"\"\n",
    "    filepath = os.getcwd() + '/event_data'\n",
    "\n",
    "    for root, dirs, files in os.walk(filepath):\n",
    "        file_path_list = glob.glob(os.path.join(root, '*'))\n",
    "    return file_path_list"
   ]
  },
  {
   "cell_type": "code",
   "execution_count": 3,
   "id": "2ba633d5",
   "metadata": {},
   "outputs": [],
   "source": [
    "def create_final_csv(file_path_list):\n",
    "    \"\"\"\n",
    "    copied from template notebook: create smaller, final CSV for inserting rows\n",
    "    \"\"\"\n",
    "    full_data_rows_list = []\n",
    "\n",
    "    for f in file_path_list:\n",
    "        with open(f, 'r', encoding='utf8', newline='') as csvfile:\n",
    "            csvreader = csv.reader(csvfile)\n",
    "            next(csvreader)\n",
    "            for line in csvreader:\n",
    "                full_data_rows_list.append(line)\n",
    "\n",
    "    csv.register_dialect('myDialect', quoting=csv.QUOTE_ALL, skipinitialspace=True)\n",
    "\n",
    "    with open(final_csv, 'w', encoding='utf8', newline='') as f:\n",
    "        writer = csv.writer(f, dialect='myDialect')\n",
    "        writer.writerow(['artist', 'firstName', 'gender', 'itemInSession', 'lastName', 'length',\n",
    "                         'level', 'location', 'sessionId', 'song', 'userId'])\n",
    "        for row in full_data_rows_list:\n",
    "            if row[0] == '':\n",
    "                continue\n",
    "            writer.writerow((row[0], row[2], row[3], row[4], row[5], row[6], row[7], row[8], row[12], row[13], row[16]))\n",
    "\n",
    "    with open('event_datafile_new.csv', 'r', encoding='utf8') as f:\n",
    "        final_count = sum(1 for line in f)\n",
    "\n",
    "    assert final_count == 6821"
   ]
  },
  {
   "cell_type": "code",
   "execution_count": 4,
   "id": "56bf5a6f",
   "metadata": {},
   "outputs": [],
   "source": [
    "def recreate_keyspace(session):\n",
    "    \"\"\"\n",
    "    create keyspace, if necessary\n",
    "    \"\"\"\n",
    "    create_keyspace_command = f\"CREATE KEYSPACE IF NOT EXISTS {keyspace} WITH REPLICATION = \"\n",
    "    create_keyspace_command += \"{ 'class' : 'SimpleStrategy', 'replication_factor' : 1 }\"\n",
    "    session.execute(create_keyspace_command)"
   ]
  },
  {
   "cell_type": "code",
   "execution_count": 5,
   "id": "bfb9512e",
   "metadata": {},
   "outputs": [],
   "source": [
    "def use_keyspace(session):\n",
    "    \"\"\"\n",
    "    set the session keyspace\n",
    "    \"\"\"\n",
    "    session.set_keyspace(keyspace)"
   ]
  },
  {
   "cell_type": "code",
   "execution_count": 6,
   "id": "607b9d43",
   "metadata": {},
   "outputs": [],
   "source": [
    "def drop_tables(session):\n",
    "    \"\"\"\n",
    "    drop tables, if they exist\n",
    "    \"\"\"\n",
    "    start = time.perf_counter()\n",
    "    session.execute(songs_by_session.drop)\n",
    "    session.execute(songs_by_player.drop)\n",
    "    session.execute(players_by_song.drop)\n",
    "    stop = time.perf_counter()\n",
    "    print(f\"drop_tables in {stop - start:0.4f} seconds\")"
   ]
  },
  {
   "cell_type": "code",
   "execution_count": 7,
   "id": "96aaa45f",
   "metadata": {},
   "outputs": [],
   "source": [
    "def create_tables(session):\n",
    "    \"\"\"\n",
    "    (re)create tables\n",
    "    \"\"\"\n",
    "    start = time.perf_counter()\n",
    "    session.execute(songs_by_session.create)\n",
    "    session.execute(songs_by_player.create)\n",
    "    session.execute(players_by_song.create)\n",
    "    stop = time.perf_counter()\n",
    "    print(f\"create_tables in {stop - start:0.4f} seconds\")"
   ]
  },
  {
   "cell_type": "code",
   "execution_count": 8,
   "id": "b7c23e6b",
   "metadata": {},
   "outputs": [],
   "source": [
    "def populate_tables(session):\n",
    "    \"\"\"\n",
    "    loop through all the rows in the combined CSV, `final_csv`, and populate tables with their data\n",
    "\n",
    "    Note: not all fields in the CSV are currently used\n",
    "    \"\"\"\n",
    "    start = time.perf_counter()\n",
    "    with open(final_csv, encoding='utf8') as f:\n",
    "        csvreader = csv.reader(f)\n",
    "        next(csvreader)  # skip header\n",
    "        for line in csvreader:\n",
    "            artist_name = line[0]\n",
    "            first_name = line[1]\n",
    "            gender = line[2]\n",
    "            item_in_session = int(line[3])\n",
    "            last_name = line[4]\n",
    "            length = float(line[5])\n",
    "            level = line[6]\n",
    "            location = line[7]\n",
    "            session_id = int(line[8])\n",
    "            song = line[9]\n",
    "            user_id = int(line[10])\n",
    "            session.execute(songs_by_session.insert, (session_id, item_in_session, artist_name, song, length))\n",
    "            session.execute(songs_by_player.insert,\n",
    "                            (user_id, session_id, item_in_session, artist_name, song, f\"{first_name} {last_name}\"))\n",
    "            session.execute(players_by_song.insert, (song, user_id, f\"{first_name} {last_name}\"))\n",
    "\n",
    "        stop = time.perf_counter()\n",
    "        print(f\"inserts in {stop - start:0.4f} seconds\")"
   ]
  },
  {
   "cell_type": "code",
   "execution_count": 9,
   "id": "f1b1d35c",
   "metadata": {},
   "outputs": [],
   "source": [
    "def select_tables(session):\n",
    "    \"\"\"\n",
    "    Run initial given queries and store results\n",
    "    \"\"\"\n",
    "    songs_by_session_df = pd.DataFrame(list(session.execute(songs_by_session.select)))\n",
    "    songs_by_player_df = pd.DataFrame(list(session.execute(songs_by_player.select)))\n",
    "    players_by_song_df = pd.DataFrame(list(session.execute(players_by_song.select)))\n",
    "\n",
    "    return {'query1': songs_by_session_df,\n",
    "            'query2': songs_by_player_df,\n",
    "            'query3': players_by_song_df}"
   ]
  },
  {
   "cell_type": "code",
   "execution_count": 10,
   "id": "c8e98c97",
   "metadata": {},
   "outputs": [
    {
     "name": "stdout",
     "output_type": "stream",
     "text": [
      "drop_tables in 0.3741 seconds\n",
      "create_tables in 0.1473 seconds\n",
      "inserts in 8.6432 seconds\n"
     ]
    }
   ],
   "source": [
    "cluster = None\n",
    "session = None\n",
    "results = {}\n",
    "\n",
    "filepaths = create_filepaths()\n",
    "create_final_csv(filepaths)\n",
    "\n",
    "try:\n",
    "    cluster = Cluster(['127.0.0.1'])\n",
    "    session = cluster.connect()\n",
    "\n",
    "    recreate_keyspace(session)\n",
    "    use_keyspace(session)\n",
    "    drop_tables(session)\n",
    "    create_tables(session)\n",
    "    populate_tables(session)\n",
    "    results = select_tables(session)\n",
    "\n",
    "except Exception as e:\n",
    "    print(f\"Exception:\\n{e}\")\n",
    "finally:\n",
    "    session.shutdown()\n",
    "    cluster.shutdown()"
   ]
  },
  {
   "cell_type": "markdown",
   "id": "f809e182",
   "metadata": {},
   "source": [
    "# Results"
   ]
  },
  {
   "cell_type": "markdown",
   "id": "bf65c762",
   "metadata": {},
   "source": [
    "## Query 1:\n",
    "Answers the question:\n",
    "> Give me the artist, song title and song's length in the music app history that was heard during sessionId = 338, and itemInSession = 4\n",
    "\n",
    "It uses the following table & SQL query to accomplish this:"
   ]
  },
  {
   "cell_type": "code",
   "execution_count": 11,
   "id": "0be3fc22",
   "metadata": {},
   "outputs": [
    {
     "name": "stdout",
     "output_type": "stream",
     "text": [
      "\n",
      "SELECT artist_name, song, length\n",
      "  FROM songs_by_session\n",
      " WHERE session_id = 338\n",
      "   AND item_in_session = 4\n",
      "\n"
     ]
    }
   ],
   "source": [
    "print(songs_by_session.select)"
   ]
  },
  {
   "cell_type": "markdown",
   "id": "d9548e00",
   "metadata": {},
   "source": [
    "The results are stored in `query1`, printed below in the output:"
   ]
  },
  {
   "cell_type": "code",
   "execution_count": 12,
   "id": "743c3a1b",
   "metadata": {},
   "outputs": [
    {
     "name": "stderr",
     "output_type": "stream",
     "text": [
      "/tmp/ipykernel_27151/469587350.py:1: FutureWarning: this method is deprecated in favour of `Styler.hide(axis=\"index\")`\n",
      "  results['query1'].style.hide_index()\n"
     ]
    },
    {
     "data": {
      "text/html": [
       "<style type=\"text/css\">\n",
       "</style>\n",
       "<table id=\"T_b01f2\">\n",
       "  <thead>\n",
       "    <tr>\n",
       "      <th id=\"T_b01f2_level0_col0\" class=\"col_heading level0 col0\" >artist_name</th>\n",
       "      <th id=\"T_b01f2_level0_col1\" class=\"col_heading level0 col1\" >song</th>\n",
       "      <th id=\"T_b01f2_level0_col2\" class=\"col_heading level0 col2\" >length</th>\n",
       "    </tr>\n",
       "  </thead>\n",
       "  <tbody>\n",
       "    <tr>\n",
       "      <td id=\"T_b01f2_row0_col0\" class=\"data row0 col0\" >Faithless</td>\n",
       "      <td id=\"T_b01f2_row0_col1\" class=\"data row0 col1\" >Music Matters (Mark Knight Dub)</td>\n",
       "      <td id=\"T_b01f2_row0_col2\" class=\"data row0 col2\" >495.307300</td>\n",
       "    </tr>\n",
       "  </tbody>\n",
       "</table>\n"
      ],
      "text/plain": [
       "<pandas.io.formats.style.Styler at 0x7f2446b98dc0>"
      ]
     },
     "execution_count": 12,
     "metadata": {},
     "output_type": "execute_result"
    }
   ],
   "source": [
    "results['query1'].style.hide_index()"
   ]
  },
  {
   "cell_type": "markdown",
   "id": "d11205f3",
   "metadata": {},
   "source": [
    "## Query 2:\n",
    "Ansers the question:\n",
    "> Give me only the following: name of artist, song (sorted by itemInSession) and user (first and last name) for userid = 10, sessionid = 182\n",
    "\n",
    "It uses the following table & SQL query to accomplish this:"
   ]
  },
  {
   "cell_type": "code",
   "execution_count": 13,
   "id": "f9d0ed94",
   "metadata": {},
   "outputs": [
    {
     "name": "stdout",
     "output_type": "stream",
     "text": [
      "\n",
      "SELECT artist_name, song, user\n",
      "  FROM songs_by_player\n",
      " WHERE user_id = 10\n",
      "   AND session_id = 182\n",
      "\n"
     ]
    }
   ],
   "source": [
    "print(songs_by_player.select)"
   ]
  },
  {
   "cell_type": "markdown",
   "id": "a27147a6",
   "metadata": {},
   "source": [
    "The results are stored in `query2`, printed below in the output:"
   ]
  },
  {
   "cell_type": "code",
   "execution_count": 14,
   "id": "b647d8c8",
   "metadata": {},
   "outputs": [
    {
     "data": {
      "text/html": [
       "<div>\n",
       "<style scoped>\n",
       "    .dataframe tbody tr th:only-of-type {\n",
       "        vertical-align: middle;\n",
       "    }\n",
       "\n",
       "    .dataframe tbody tr th {\n",
       "        vertical-align: top;\n",
       "    }\n",
       "\n",
       "    .dataframe thead th {\n",
       "        text-align: right;\n",
       "    }\n",
       "</style>\n",
       "<table border=\"1\" class=\"dataframe\">\n",
       "  <thead>\n",
       "    <tr style=\"text-align: right;\">\n",
       "      <th></th>\n",
       "      <th>artist_name</th>\n",
       "      <th>song</th>\n",
       "      <th>user</th>\n",
       "    </tr>\n",
       "  </thead>\n",
       "  <tbody>\n",
       "    <tr>\n",
       "      <th>0</th>\n",
       "      <td>Down To The Bone</td>\n",
       "      <td>Keep On Keepin' On</td>\n",
       "      <td>Sylvie Cruz</td>\n",
       "    </tr>\n",
       "    <tr>\n",
       "      <th>1</th>\n",
       "      <td>Three Drives</td>\n",
       "      <td>Greece 2000</td>\n",
       "      <td>Sylvie Cruz</td>\n",
       "    </tr>\n",
       "    <tr>\n",
       "      <th>2</th>\n",
       "      <td>Sebastien Tellier</td>\n",
       "      <td>Kilometer</td>\n",
       "      <td>Sylvie Cruz</td>\n",
       "    </tr>\n",
       "    <tr>\n",
       "      <th>3</th>\n",
       "      <td>Lonnie Gordon</td>\n",
       "      <td>Catch You Baby (Steve Pitron &amp; Max Sanna Radio...</td>\n",
       "      <td>Sylvie Cruz</td>\n",
       "    </tr>\n",
       "  </tbody>\n",
       "</table>\n",
       "</div>"
      ],
      "text/plain": [
       "         artist_name                                               song  \\\n",
       "0   Down To The Bone                                 Keep On Keepin' On   \n",
       "1       Three Drives                                        Greece 2000   \n",
       "2  Sebastien Tellier                                          Kilometer   \n",
       "3      Lonnie Gordon  Catch You Baby (Steve Pitron & Max Sanna Radio...   \n",
       "\n",
       "          user  \n",
       "0  Sylvie Cruz  \n",
       "1  Sylvie Cruz  \n",
       "2  Sylvie Cruz  \n",
       "3  Sylvie Cruz  "
      ]
     },
     "execution_count": 14,
     "metadata": {},
     "output_type": "execute_result"
    }
   ],
   "source": [
    "results['query2']"
   ]
  },
  {
   "cell_type": "markdown",
   "id": "96d5051d",
   "metadata": {},
   "source": [
    "## Query 3:\n",
    "Answers the question:\n",
    "> Give me every user name (first and last) in my music app history who listened to the song 'All Hands Against His Own'\n",
    "\n",
    "It uses the following table & SQL query to accomplish this:"
   ]
  },
  {
   "cell_type": "code",
   "execution_count": 15,
   "id": "67b75d62",
   "metadata": {},
   "outputs": [
    {
     "name": "stdout",
     "output_type": "stream",
     "text": [
      "\n",
      "SELECT user\n",
      "  FROM players_by_song\n",
      " WHERE song = 'All Hands Against His Own'\n",
      "\n"
     ]
    }
   ],
   "source": [
    "print(players_by_song.select)"
   ]
  },
  {
   "cell_type": "markdown",
   "id": "355b4cd2",
   "metadata": {},
   "source": [
    "The results are stored in `query3`, printed below in the output:"
   ]
  },
  {
   "cell_type": "code",
   "execution_count": 16,
   "id": "f7c37e64",
   "metadata": {},
   "outputs": [
    {
     "data": {
      "text/html": [
       "<div>\n",
       "<style scoped>\n",
       "    .dataframe tbody tr th:only-of-type {\n",
       "        vertical-align: middle;\n",
       "    }\n",
       "\n",
       "    .dataframe tbody tr th {\n",
       "        vertical-align: top;\n",
       "    }\n",
       "\n",
       "    .dataframe thead th {\n",
       "        text-align: right;\n",
       "    }\n",
       "</style>\n",
       "<table border=\"1\" class=\"dataframe\">\n",
       "  <thead>\n",
       "    <tr style=\"text-align: right;\">\n",
       "      <th></th>\n",
       "      <th>user</th>\n",
       "    </tr>\n",
       "  </thead>\n",
       "  <tbody>\n",
       "    <tr>\n",
       "      <th>0</th>\n",
       "      <td>Jacqueline Lynch</td>\n",
       "    </tr>\n",
       "    <tr>\n",
       "      <th>1</th>\n",
       "      <td>Tegan Levine</td>\n",
       "    </tr>\n",
       "    <tr>\n",
       "      <th>2</th>\n",
       "      <td>Sara Johnson</td>\n",
       "    </tr>\n",
       "  </tbody>\n",
       "</table>\n",
       "</div>"
      ],
      "text/plain": [
       "               user\n",
       "0  Jacqueline Lynch\n",
       "1      Tegan Levine\n",
       "2      Sara Johnson"
      ]
     },
     "execution_count": 16,
     "metadata": {},
     "output_type": "execute_result"
    }
   ],
   "source": [
    "results['query3']"
   ]
  }
 ],
 "metadata": {
  "kernelspec": {
   "display_name": "Python 3 (ipykernel)",
   "language": "python",
   "name": "python3"
  },
  "language_info": {
   "codemirror_mode": {
    "name": "ipython",
    "version": 3
   },
   "file_extension": ".py",
   "mimetype": "text/x-python",
   "name": "python",
   "nbconvert_exporter": "python",
   "pygments_lexer": "ipython3",
   "version": "3.10.6"
  }
 },
 "nbformat": 4,
 "nbformat_minor": 5
}
